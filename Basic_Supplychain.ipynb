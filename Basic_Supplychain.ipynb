{
  "nbformat": 4,
  "nbformat_minor": 0,
  "metadata": {
    "colab": {
      "name": "Knowledge_Foundry_ML_Assignment",
      "provenance": [],
      "authorship_tag": "ABX9TyPoBGTrIt/KJE2YX9e9UuBx",
      "include_colab_link": true
    },
    "kernelspec": {
      "name": "python3",
      "display_name": "Python 3"
    }
  },
  "cells": [
    {
      "cell_type": "markdown",
      "metadata": {
        "id": "view-in-github",
        "colab_type": "text"
      },
      "source": [
        "<a href=\"https://colab.research.google.com/github/leosv123/DATA_CAPTURE/blob/master/Knowledge_Foundry_ML_Assignment.ipynb\" target=\"_parent\"><img src=\"https://colab.research.google.com/assets/colab-badge.svg\" alt=\"Open In Colab\"/></a>"
      ]
    },
    {
      "cell_type": "code",
      "metadata": {
        "id": "08hOoRk-JOw3",
        "outputId": "18bbde3f-6a8e-45c5-e560-6f7ab95a6668",
        "colab": {
          "base_uri": "https://localhost:8080/",
          "height": 50
        }
      },
      "source": [
        "from google.colab import drive\n",
        "drive.mount('/gdrive')\n",
        "%cd /gdrive"
      ],
      "execution_count": 1,
      "outputs": [
        {
          "output_type": "stream",
          "text": [
            "Mounted at /gdrive\n",
            "/gdrive\n"
          ],
          "name": "stdout"
        }
      ]
    },
    {
      "cell_type": "code",
      "metadata": {
        "id": "qnpHQsMeJQEn",
        "outputId": "5d9f050b-7f95-4770-ea08-d6058561ecc4",
        "colab": {
          "base_uri": "https://localhost:8080/",
          "height": 34
        }
      },
      "source": [
        "cd My\\ Drive"
      ],
      "execution_count": 2,
      "outputs": [
        {
          "output_type": "stream",
          "text": [
            "/gdrive/My Drive\n"
          ],
          "name": "stdout"
        }
      ]
    },
    {
      "cell_type": "markdown",
      "metadata": {
        "id": "GXDLgqKGCdFj"
      },
      "source": [
        "## **Import all Packages**"
      ]
    },
    {
      "cell_type": "code",
      "metadata": {
        "id": "Q5L1OtuJJlZ8"
      },
      "source": [
        "import pandas as pd\n",
        "import matplotlib.pyplot as plt\n",
        "import seaborn as sns\n",
        "colors = ['#1f77b4', '#ff7f0e', '#2ca02c', '#d62728', '#9467bd']"
      ],
      "execution_count": 217,
      "outputs": []
    },
    {
      "cell_type": "markdown",
      "metadata": {
        "id": "J8QNh_NOCuzx"
      },
      "source": [
        "Load the Data of Invoice"
      ]
    },
    {
      "cell_type": "code",
      "metadata": {
        "id": "u-t2LzCAJtEN"
      },
      "source": [
        "data=pd.read_csv('invoice_data.csv')"
      ],
      "execution_count": 232,
      "outputs": []
    },
    {
      "cell_type": "code",
      "metadata": {
        "id": "r5U8UlzcJugP",
        "outputId": "41165cad-37f5-4212-81f6-a859984371c8",
        "colab": {
          "base_uri": "https://localhost:8080/",
          "height": 279
        }
      },
      "source": [
        "data.head()"
      ],
      "execution_count": 233,
      "outputs": [
        {
          "output_type": "execute_result",
          "data": {
            "text/html": [
              "<div>\n",
              "<style scoped>\n",
              "    .dataframe tbody tr th:only-of-type {\n",
              "        vertical-align: middle;\n",
              "    }\n",
              "\n",
              "    .dataframe tbody tr th {\n",
              "        vertical-align: top;\n",
              "    }\n",
              "\n",
              "    .dataframe thead th {\n",
              "        text-align: right;\n",
              "    }\n",
              "</style>\n",
              "<table border=\"1\" class=\"dataframe\">\n",
              "  <thead>\n",
              "    <tr style=\"text-align: right;\">\n",
              "      <th></th>\n",
              "      <th>supplier_id</th>\n",
              "      <th>supplier_name</th>\n",
              "      <th>major_desc</th>\n",
              "      <th>minor_desc</th>\n",
              "      <th>line_item_desc</th>\n",
              "      <th>uom</th>\n",
              "      <th>invoice_desc</th>\n",
              "      <th>category_name</th>\n",
              "    </tr>\n",
              "  </thead>\n",
              "  <tbody>\n",
              "    <tr>\n",
              "      <th>0</th>\n",
              "      <td>84063</td>\n",
              "      <td>Whitco Supply LLC</td>\n",
              "      <td>CAP WKVR CONSTRUCTION INTANGIBLE</td>\n",
              "      <td>MATERIALS/SUPPLIES</td>\n",
              "      <td>6 X .62 GALV NEOP UBOLT W/4NUT</td>\n",
              "      <td>ea</td>\n",
              "      <td>OILFIELD SUPPLIES</td>\n",
              "      <td>Facilities - Equipment</td>\n",
              "    </tr>\n",
              "    <tr>\n",
              "      <th>1</th>\n",
              "      <td>3236369</td>\n",
              "      <td>Nabors Drilling Technologies USA, Inc</td>\n",
              "      <td>8/8 Intangible Drilling Cost</td>\n",
              "      <td>IDC Rig Daywk- Day Rate Land</td>\n",
              "      <td>dayrate/obm rate</td>\n",
              "      <td>NaN</td>\n",
              "      <td>,, ..</td>\n",
              "      <td>Drilling - Day Rate</td>\n",
              "    </tr>\n",
              "    <tr>\n",
              "      <th>2</th>\n",
              "      <td>3499225</td>\n",
              "      <td>Basin Supply LP</td>\n",
              "      <td>8/8 Intangible Completion Costs</td>\n",
              "      <td>ICC Site Preparation &amp; Clean Up</td>\n",
              "      <td>*****KIMRAY 250 SOA PBT-D MECH O/W REPAIR KIT ...</td>\n",
              "      <td>each</td>\n",
              "      <td>Invoice Number: 51293198; Lease Name: MCGLOTHL...</td>\n",
              "      <td>Other - Maintenance &amp; Repair</td>\n",
              "    </tr>\n",
              "    <tr>\n",
              "      <th>3</th>\n",
              "      <td>220776</td>\n",
              "      <td>MRC Global (US) Inc.</td>\n",
              "      <td>Pipe, Valves, Fittings</td>\n",
              "      <td>Pipe, Valves, Fittings</td>\n",
              "      <td>10--3 X 1 6000# BLK CS THREDOLET MSS SP97 SA105</td>\n",
              "      <td>ea</td>\n",
              "      <td>ORDERED BY:RAGEN BAKER, Location:  FAUNDA</td>\n",
              "      <td>Facilities - Fittings</td>\n",
              "    </tr>\n",
              "    <tr>\n",
              "      <th>4</th>\n",
              "      <td>1106461</td>\n",
              "      <td>Ft Berthold Services Trucking, LLC</td>\n",
              "      <td>EXPENSE WORKOVERS</td>\n",
              "      <td>TRUCKING &amp; HAULING</td>\n",
              "      <td>FB 148-95-13A-24-3H - Other Fees</td>\n",
              "      <td>each</td>\n",
              "      <td>WETTERHORN 13A PAD / 3H / RIG SERVICES</td>\n",
              "      <td>Needs Review</td>\n",
              "    </tr>\n",
              "  </tbody>\n",
              "</table>\n",
              "</div>"
            ],
            "text/plain": [
              "   supplier_id  ...                 category_name\n",
              "0        84063  ...        Facilities - Equipment\n",
              "1      3236369  ...           Drilling - Day Rate\n",
              "2      3499225  ...  Other - Maintenance & Repair\n",
              "3       220776  ...         Facilities - Fittings\n",
              "4      1106461  ...                  Needs Review\n",
              "\n",
              "[5 rows x 8 columns]"
            ]
          },
          "metadata": {
            "tags": []
          },
          "execution_count": 233
        }
      ]
    },
    {
      "cell_type": "markdown",
      "metadata": {
        "id": "usNMX2TaCzam"
      },
      "source": [
        "### **Exploratory Data Analysis**\n",
        "Check if there are any Null Values in the Data"
      ]
    },
    {
      "cell_type": "code",
      "metadata": {
        "id": "iasxwqvOJwPr",
        "outputId": "37dc6eba-f379-4ef5-c549-7a699b5c251b",
        "colab": {
          "base_uri": "https://localhost:8080/",
          "height": 168
        }
      },
      "source": [
        "data.isna().sum()"
      ],
      "execution_count": 234,
      "outputs": [
        {
          "output_type": "execute_result",
          "data": {
            "text/plain": [
              "supplier_id          0\n",
              "supplier_name        0\n",
              "major_desc           0\n",
              "minor_desc           0\n",
              "line_item_desc       0\n",
              "uom               4509\n",
              "invoice_desc         3\n",
              "category_name        2\n",
              "dtype: int64"
            ]
          },
          "metadata": {
            "tags": []
          },
          "execution_count": 234
        }
      ]
    },
    {
      "cell_type": "markdown",
      "metadata": {
        "id": "4NTIOR48C6L7"
      },
      "source": [
        "## **Preprocessing Steps:** <br />\n",
        "a) Remove the Category names having nan, Indeterminate, Needs Review <br />\n",
        "b) Create a subcategory column from Category Column <br />\n",
        "c) select top 3 categories and label all other subcategories as Others"
      ]
    },
    {
      "cell_type": "code",
      "metadata": {
        "id": "DPXuuknqJyCE"
      },
      "source": [
        "#drop the rows with nan,Indeterminate,Needs Review\n",
        "drop_rowsbytarget=['Indeterminate','Needs Review']\n",
        "data=data[~data['category_name'].isin(drop_rowsbytarget)]\n",
        "data.index=range(len(data))"
      ],
      "execution_count": 235,
      "outputs": []
    },
    {
      "cell_type": "code",
      "metadata": {
        "id": "0wcVtkHWJzub"
      },
      "source": [
        "data = data.dropna(subset=['category_name'])"
      ],
      "execution_count": 236,
      "outputs": []
    },
    {
      "cell_type": "code",
      "metadata": {
        "id": "nuk64T_TJ1ZD"
      },
      "source": [
        "data['sub_category']=data['category_name'].apply(lambda x:x.split('-')[1])\n",
        "data['category_name']=data['category_name'].apply(lambda x:x.split('-')[0])"
      ],
      "execution_count": 237,
      "outputs": []
    },
    {
      "cell_type": "code",
      "metadata": {
        "id": "jqXTNdmZJ3s7"
      },
      "source": [
        "top3_subcategories=list(data['sub_category'].value_counts().keys()[:3])"
      ],
      "execution_count": 238,
      "outputs": []
    },
    {
      "cell_type": "code",
      "metadata": {
        "id": "WAmaxnmQJ5yF",
        "outputId": "9c48f265-7217-4fa0-c2bb-f5d1c5c57d01",
        "colab": {
          "base_uri": "https://localhost:8080/",
          "height": 397
        }
      },
      "source": [
        "data.loc[~data['sub_category'].isin(top3_subcategories),'sub_category']='Others'\n",
        "plt.figure(figsize=(7,4))\n",
        "data['sub_category'].value_counts().plot.bar(color=colors)\n",
        "print(data['sub_category'].value_counts())"
      ],
      "execution_count": 239,
      "outputs": [
        {
          "output_type": "stream",
          "text": [
            "Others        21276\n",
            " Fittings      8846\n",
            " Equipment     5864\n",
            " Day Rate      3555\n",
            "Name: sub_category, dtype: int64\n"
          ],
          "name": "stdout"
        },
        {
          "output_type": "display_data",
          "data": {
            "image/png": "[encoded data removed]",
            "text/plain": [
              "<Figure size 504x288 with 1 Axes>"
            ]
          },
          "metadata": {
            "tags": [],
            "needs_background": "light"
          }
        }
      ]
    },
    {
      "cell_type": "code",
      "metadata": {
        "id": "kZcnKJsVJ7BR"
      },
      "source": [
        "from nltk.corpus import stopwords\n",
        "import re"
      ],
      "execution_count": 240,
      "outputs": []
    },
    {
      "cell_type": "code",
      "metadata": {
        "id": "PQsJPv-pKAL0"
      },
      "source": [
        "REPLACE_BY_SPACE_RE = re.compile('[/(){}\\[\\]\\|@,;]')\n",
        "BAD_SYMBOLS_RE = re.compile('[^0-9a-z #+_]')\n"
      ],
      "execution_count": 241,
      "outputs": []
    },
    {
      "cell_type": "code",
      "metadata": {
        "id": "mEYIf1SbKBge"
      },
      "source": [
        "def text_prepare(text):\n",
        "    \"\"\"text: a string        \n",
        "        return: modified initial string\"\"\"\n",
        "    text = text.lower()\n",
        "    text = re.sub(REPLACE_BY_SPACE_RE,' ',text)\n",
        "    text = re.sub(BAD_SYMBOLS_RE,'',text)\n",
        "    return text"
      ],
      "execution_count": 242,
      "outputs": []
    },
    {
      "cell_type": "markdown",
      "metadata": {
        "id": "7J6PLmx8FakB"
      },
      "source": [
        "Fill the NAN values using a new Value 'NOT KNOWN'"
      ]
    },
    {
      "cell_type": "code",
      "metadata": {
        "id": "Fs6_FY3JKHNi"
      },
      "source": [
        "data['uom']=data['uom'].fillna('NOT KNOWN')\n",
        "data['invoice_desc']=data['invoice_desc'].fillna('NOT KNOWN')\n",
        "\n",
        "data['invoice_desc'] = [text_prepare(x) for x in data['invoice_desc']]\n",
        "data['supplier_name'] = [text_prepare(x) for x in data['supplier_name']]\n",
        "data['major_desc'] = [text_prepare(x) for x in data['major_desc']]\n",
        "data['minor_desc'] = [text_prepare(x) for x in data['minor_desc']]\n",
        "data['line_item_desc'] = [text_prepare(x) for x in data['line_item_desc']]\n",
        "data['category_name'] = [text_prepare(x) for x in data['category_name']]\n",
        "\n",
        "data.index=range(len(data))"
      ],
      "execution_count": 243,
      "outputs": []
    },
    {
      "cell_type": "code",
      "metadata": {
        "id": "JfEqJPlCKKll",
        "outputId": "051a71f6-4e7c-485f-a8a4-8d0ee28851ea",
        "colab": {
          "base_uri": "https://localhost:8080/",
          "height": 50
        }
      },
      "source": [
        "from nltk.tokenize import word_tokenize\n",
        "import nltk\n",
        "nltk.download('punkt')\n",
        "all_cols={key:[] for key in list(data.columns[1:-1])}\n",
        "for col in list(data.columns[1:-1]):\n",
        "    for each in range(len(data[col])):\n",
        "        all_cols[col].append(word_tokenize(data[col][each].lower()))"
      ],
      "execution_count": 244,
      "outputs": [
        {
          "output_type": "stream",
          "text": [
            "[nltk_data] Downloading package punkt to /root/nltk_data...\n",
            "[nltk_data]   Package punkt is already up-to-date!\n"
          ],
          "name": "stdout"
        }
      ]
    },
    {
      "cell_type": "code",
      "metadata": {
        "id": "YgmJHDwMKPkP"
      },
      "source": [
        "X=pd.DataFrame(all_cols)"
      ],
      "execution_count": 245,
      "outputs": []
    },
    {
      "cell_type": "markdown",
      "metadata": {
        "id": "KnKeGUkdF-Qz"
      },
      "source": [
        "### **Feature Engineering** :\n",
        "Sentence or Phrases embedd using pretrainined BERT MODEL not used"
      ]
    },
    {
      "cell_type": "code",
      "metadata": {
        "id": "76Z67k8TK8H2"
      },
      "source": [
        "#!pip install sentence_transformers\n",
        "#from sentence_transformers import SentenceTransformer\n",
        "#sbert_model = SentenceTransformer('bert-base-nli-mean-tokens')"
      ],
      "execution_count": 246,
      "outputs": []
    },
    {
      "cell_type": "markdown",
      "metadata": {
        "id": "fmmtgNWMGGWp"
      },
      "source": [
        "**Sentence Embedding** using Doc2Vec similar Word2Vec having a paragraph vector , done for each of the feature column \n",
        "\n",
        "Takes around 20 minutes to train on all the column features"
      ]
    },
    {
      "cell_type": "code",
      "metadata": {
        "id": "t9CSqkfOLArQ"
      },
      "source": [
        "# import\n",
        "from gensim.models.doc2vec import Doc2Vec, TaggedDocument\n",
        "\n",
        "\n",
        "#generating standard format for input in feature Word embedding \n",
        "tagged_data1 = [TaggedDocument(d, [i]) for i, d in enumerate(X['major_desc'])]\n",
        "tagged_data2 = [TaggedDocument(d, [i]) for i, d in enumerate(X['minor_desc'])]\n",
        "tagged_data3 = [TaggedDocument(d, [i]) for i, d in enumerate(X['line_item_desc'])]\n",
        "tagged_data4 = [TaggedDocument(d, [i]) for i, d in enumerate(X['invoice_desc'])]\n",
        "tagged_data5 = [TaggedDocument(d, [i]) for i, d in enumerate(X['category_name'])]\n",
        "tagged_data6 = [TaggedDocument(d, [i]) for i, d in enumerate(X['uom'])]\n",
        "\n",
        "\n",
        "## Train doc2vec model\n",
        "model1 = Doc2Vec(tagged_data1, vector_size = 20, window = 2, min_count = 1, epochs = 50)\n",
        "model2 = Doc2Vec(tagged_data2, vector_size = 20, window = 2, min_count = 1, epochs = 50)\n",
        "model3 = Doc2Vec(tagged_data3, vector_size = 20, window = 2, min_count = 1, epochs = 50)\n",
        "model4 = Doc2Vec(tagged_data4, vector_size = 20, window = 2, min_count = 1, epochs = 50)\n",
        "model5 = Doc2Vec(tagged_data5, vector_size = 20, window = 2, min_count = 1, epochs = 50)\n",
        "model6 = Doc2Vec(tagged_data6, vector_size = 20, window = 2, min_count = 1, epochs = 50)"
      ],
      "execution_count": 248,
      "outputs": []
    },
    {
      "cell_type": "markdown",
      "metadata": {
        "id": "5QtJQMvFG91-"
      },
      "source": [
        "Getting the Feature Values for the each columns from the model trained on each column values (i have kept the Vector size of each column value to 20)\n",
        "\n",
        "Takes around 15Min to get the inference vectors"
      ]
    },
    {
      "cell_type": "code",
      "metadata": {
        "id": "ls3PURfxP6pt"
      },
      "source": [
        "doc2vec={key:[] for key in list(X.columns)}\n",
        "for i in list(X.columns):\n",
        "  for j in range(len(X)):\n",
        "    if i=='major_desc':\n",
        "      doc2vec[i].append(model1.infer_vector(X[i][j]))\n",
        "    elif i=='minor_desc':\n",
        "      doc2vec[i].append(model2.infer_vector(X[i][j]))\n",
        "    elif i=='line_item_desc':\n",
        "      doc2vec[i].append(model3.infer_vector(X[i][j]))\n",
        "    elif i== 'invoice_desc':\n",
        "      doc2vec[i].append(model4.infer_vector(X[i][j]))\n",
        "    elif i== 'category_name':\n",
        "      doc2vec[i].append(model5.infer_vector(X[i][j]))\n",
        "    elif i== 'uom':\n",
        "      doc2vec[i].append(model5.infer_vector(X[i][j]))"
      ],
      "execution_count": 249,
      "outputs": []
    },
    {
      "cell_type": "markdown",
      "metadata": {
        "id": "LU_O0i1OEuOG"
      },
      "source": [
        "Checking if Similar phrase texts or companies have similar Vectors (just sample)"
      ]
    },
    {
      "cell_type": "code",
      "metadata": {
        "id": "gNAdWXroTC6r",
        "outputId": "907592b4-3ca9-4cf8-c84b-a464f9c1ebe2",
        "colab": {
          "base_uri": "https://localhost:8080/",
          "height": 50
        }
      },
      "source": [
        "import numpy as np\n",
        "def cosine(u, v):\n",
        "    return np.dot(u, v) / (np.linalg.norm(u) * np.linalg.norm(v))\n",
        "\n",
        "test_doc = word_tokenize(\"Fittings walves\".lower())\n",
        "\n",
        "print(cosine(model1.infer_vector(' '.join(X['major_desc'][3245])), model1.infer_vector(test_doc)))\n",
        "print(X['major_desc'][3245])"
      ],
      "execution_count": 253,
      "outputs": [
        {
          "output_type": "stream",
          "text": [
            "0.27067477\n",
            "['well', 'equipment', 'gross']\n"
          ],
          "name": "stdout"
        }
      ]
    },
    {
      "cell_type": "code",
      "metadata": {
        "id": "O7KERAdiMeAN"
      },
      "source": [
        "data['invoice_desc'] = [text_prepare(x) for x in data['invoice_desc']]\n",
        "data['supplier_name'] = [text_prepare(x) for x in data['supplier_name']]\n",
        "data['major_desc'] = [text_prepare(x) for x in data['major_desc']]\n",
        "data['minor_desc'] = [text_prepare(x) for x in data['minor_desc']]\n",
        "data['line_item_desc'] = [text_prepare(x) for x in data['line_item_desc']]\n",
        "data['category_name'] = [text_prepare(x) for x in data['category_name']]\n",
        "\n",
        "data['supplier_name'] = le.fit_transform(data['supplier_name'])\n",
        "data['major_desc'] = le.fit_transform(data['major_desc'])\n",
        "data['line_item_desc'] = le.fit_transform(data['line_item_desc'])\n",
        "data['minor_desc']=le.fit_transform(data['minor_desc'])\n",
        "data['invoice_desc']=le.fit_transform(data['invoice_desc'])\n",
        "data['category_name']=le.fit_transform(data['category_name'])\n",
        "data['sub_category']=le.fit_transform(data['sub_category'])\n",
        "data['supplier_id']=le.fit_transform(data['supplier_id'])"
      ],
      "execution_count": 254,
      "outputs": []
    },
    {
      "cell_type": "code",
      "metadata": {
        "id": "SWfTjtCmQKqH",
        "outputId": "b8392c56-b9cc-42b6-e5d9-bb93c94a2328",
        "colab": {
          "base_uri": "https://localhost:8080/",
          "height": 195
        }
      },
      "source": [
        "data.head()"
      ],
      "execution_count": 279,
      "outputs": [
        {
          "output_type": "execute_result",
          "data": {
            "text/html": [
              "<div>\n",
              "<style scoped>\n",
              "    .dataframe tbody tr th:only-of-type {\n",
              "        vertical-align: middle;\n",
              "    }\n",
              "\n",
              "    .dataframe tbody tr th {\n",
              "        vertical-align: top;\n",
              "    }\n",
              "\n",
              "    .dataframe thead th {\n",
              "        text-align: right;\n",
              "    }\n",
              "</style>\n",
              "<table border=\"1\" class=\"dataframe\">\n",
              "  <thead>\n",
              "    <tr style=\"text-align: right;\">\n",
              "      <th></th>\n",
              "      <th>supplier_id</th>\n",
              "      <th>supplier_name</th>\n",
              "      <th>major_desc</th>\n",
              "      <th>minor_desc</th>\n",
              "      <th>line_item_desc</th>\n",
              "      <th>uom</th>\n",
              "      <th>invoice_desc</th>\n",
              "      <th>category_name</th>\n",
              "      <th>sub_category</th>\n",
              "    </tr>\n",
              "  </thead>\n",
              "  <tbody>\n",
              "    <tr>\n",
              "      <th>0</th>\n",
              "      <td>84063</td>\n",
              "      <td>149</td>\n",
              "      <td>103</td>\n",
              "      <td>1569</td>\n",
              "      <td>11775</td>\n",
              "      <td>ea</td>\n",
              "      <td>22117</td>\n",
              "      <td>2</td>\n",
              "      <td>1</td>\n",
              "    </tr>\n",
              "    <tr>\n",
              "      <th>1</th>\n",
              "      <td>3236369</td>\n",
              "      <td>88</td>\n",
              "      <td>15</td>\n",
              "      <td>1079</td>\n",
              "      <td>17177</td>\n",
              "      <td>NOT KNOWN</td>\n",
              "      <td>2</td>\n",
              "      <td>1</td>\n",
              "      <td>0</td>\n",
              "    </tr>\n",
              "    <tr>\n",
              "      <th>2</th>\n",
              "      <td>3499225</td>\n",
              "      <td>15</td>\n",
              "      <td>14</td>\n",
              "      <td>941</td>\n",
              "      <td>23702</td>\n",
              "      <td>each</td>\n",
              "      <td>14173</td>\n",
              "      <td>4</td>\n",
              "      <td>3</td>\n",
              "    </tr>\n",
              "    <tr>\n",
              "      <th>3</th>\n",
              "      <td>220776</td>\n",
              "      <td>86</td>\n",
              "      <td>970</td>\n",
              "      <td>1872</td>\n",
              "      <td>2509</td>\n",
              "      <td>ea</td>\n",
              "      <td>22898</td>\n",
              "      <td>2</td>\n",
              "      <td>2</td>\n",
              "    </tr>\n",
              "    <tr>\n",
              "      <th>4</th>\n",
              "      <td>50582</td>\n",
              "      <td>99</td>\n",
              "      <td>78</td>\n",
              "      <td>1057</td>\n",
              "      <td>18779</td>\n",
              "      <td>NOT KNOWN</td>\n",
              "      <td>25812</td>\n",
              "      <td>1</td>\n",
              "      <td>0</td>\n",
              "    </tr>\n",
              "  </tbody>\n",
              "</table>\n",
              "</div>"
            ],
            "text/plain": [
              "   supplier_id  supplier_name  ...  category_name  sub_category\n",
              "0        84063            149  ...              2             1\n",
              "1      3236369             88  ...              1             0\n",
              "2      3499225             15  ...              4             3\n",
              "3       220776             86  ...              2             2\n",
              "4        50582             99  ...              1             0\n",
              "\n",
              "[5 rows x 9 columns]"
            ]
          },
          "metadata": {
            "tags": []
          },
          "execution_count": 279
        }
      ]
    },
    {
      "cell_type": "code",
      "metadata": {
        "id": "guaK-VAKRltx"
      },
      "source": [
        "data=data.drop(['uom'],axis=1)"
      ],
      "execution_count": 280,
      "outputs": []
    },
    {
      "cell_type": "code",
      "metadata": {
        "id": "DxV7Lv1ZSsgY",
        "outputId": "f0aed2e2-fd94-4dd5-9fc2-f097076d4c3d",
        "colab": {
          "base_uri": "https://localhost:8080/",
          "height": 195
        }
      },
      "source": [
        "data.head()"
      ],
      "execution_count": 295,
      "outputs": [
        {
          "output_type": "execute_result",
          "data": {
            "text/html": [
              "<div>\n",
              "<style scoped>\n",
              "    .dataframe tbody tr th:only-of-type {\n",
              "        vertical-align: middle;\n",
              "    }\n",
              "\n",
              "    .dataframe tbody tr th {\n",
              "        vertical-align: top;\n",
              "    }\n",
              "\n",
              "    .dataframe thead th {\n",
              "        text-align: right;\n",
              "    }\n",
              "</style>\n",
              "<table border=\"1\" class=\"dataframe\">\n",
              "  <thead>\n",
              "    <tr style=\"text-align: right;\">\n",
              "      <th></th>\n",
              "      <th>supplier_id</th>\n",
              "      <th>supplier_name</th>\n",
              "      <th>major_desc</th>\n",
              "      <th>minor_desc</th>\n",
              "      <th>line_item_desc</th>\n",
              "      <th>invoice_desc</th>\n",
              "      <th>category_name</th>\n",
              "      <th>sub_category</th>\n",
              "    </tr>\n",
              "  </thead>\n",
              "  <tbody>\n",
              "    <tr>\n",
              "      <th>0</th>\n",
              "      <td>84063</td>\n",
              "      <td>149</td>\n",
              "      <td>103</td>\n",
              "      <td>1569</td>\n",
              "      <td>11775</td>\n",
              "      <td>22117</td>\n",
              "      <td>2</td>\n",
              "      <td>1</td>\n",
              "    </tr>\n",
              "    <tr>\n",
              "      <th>1</th>\n",
              "      <td>3236369</td>\n",
              "      <td>88</td>\n",
              "      <td>15</td>\n",
              "      <td>1079</td>\n",
              "      <td>17177</td>\n",
              "      <td>2</td>\n",
              "      <td>1</td>\n",
              "      <td>0</td>\n",
              "    </tr>\n",
              "    <tr>\n",
              "      <th>2</th>\n",
              "      <td>3499225</td>\n",
              "      <td>15</td>\n",
              "      <td>14</td>\n",
              "      <td>941</td>\n",
              "      <td>23702</td>\n",
              "      <td>14173</td>\n",
              "      <td>4</td>\n",
              "      <td>3</td>\n",
              "    </tr>\n",
              "    <tr>\n",
              "      <th>3</th>\n",
              "      <td>220776</td>\n",
              "      <td>86</td>\n",
              "      <td>970</td>\n",
              "      <td>1872</td>\n",
              "      <td>2509</td>\n",
              "      <td>22898</td>\n",
              "      <td>2</td>\n",
              "      <td>2</td>\n",
              "    </tr>\n",
              "    <tr>\n",
              "      <th>4</th>\n",
              "      <td>50582</td>\n",
              "      <td>99</td>\n",
              "      <td>78</td>\n",
              "      <td>1057</td>\n",
              "      <td>18779</td>\n",
              "      <td>25812</td>\n",
              "      <td>1</td>\n",
              "      <td>0</td>\n",
              "    </tr>\n",
              "  </tbody>\n",
              "</table>\n",
              "</div>"
            ],
            "text/plain": [
              "   supplier_id  supplier_name  ...  category_name  sub_category\n",
              "0        84063            149  ...              2             1\n",
              "1      3236369             88  ...              1             0\n",
              "2      3499225             15  ...              4             3\n",
              "3       220776             86  ...              2             2\n",
              "4        50582             99  ...              1             0\n",
              "\n",
              "[5 rows x 8 columns]"
            ]
          },
          "metadata": {
            "tags": []
          },
          "execution_count": 295
        }
      ]
    },
    {
      "cell_type": "code",
      "metadata": {
        "id": "ZR4ngKDCQJHp"
      },
      "source": [
        "X_enc = data.iloc[:, :-1].values    #   X -> Feature Variables\n",
        "y_enc = data.iloc[:, -1].values #   y ->  Target"
      ],
      "execution_count": 296,
      "outputs": []
    },
    {
      "cell_type": "code",
      "metadata": {
        "id": "e-2YYQy-NuIJ"
      },
      "source": [
        "doc2vec['supplier_name']=data['supplier_name']"
      ],
      "execution_count": 282,
      "outputs": []
    },
    {
      "cell_type": "code",
      "metadata": {
        "id": "JH5cOJv7VfLh"
      },
      "source": [
        "X=pd.DataFrame(doc2vec)"
      ],
      "execution_count": 283,
      "outputs": []
    },
    {
      "cell_type": "markdown",
      "metadata": {
        "id": "pX5wvxC_OWnO"
      },
      "source": [
        "Contenate all the feature text vectors for each column"
      ]
    },
    {
      "cell_type": "code",
      "metadata": {
        "id": "lHFxBJ7QflX5"
      },
      "source": [
        "all_features=[]\n",
        "for i in range(len(X)):\n",
        "  all_features.append(list(X['major_desc'][i])+list(X['minor_desc'][i])+list(X['line_item_desc'][i])+list(X['invoice_desc'][i])+list(X['category_name'][i]))\n",
        "\n",
        "X['all_features']=all_features"
      ],
      "execution_count": 284,
      "outputs": []
    },
    {
      "cell_type": "code",
      "metadata": {
        "id": "fthdoYiXktIT"
      },
      "source": [
        "from sklearn import preprocessing\n",
        "le = preprocessing.LabelEncoder()\n",
        "data['supplier_name']=le.fit_transform(data['supplier_name'])"
      ],
      "execution_count": 285,
      "outputs": []
    },
    {
      "cell_type": "markdown",
      "metadata": {
        "id": "lDVnU6U8Hp36"
      },
      "source": [
        "Create a DataFrame from all the feature vectors as values of columns to train using Machine Learning Models"
      ]
    },
    {
      "cell_type": "code",
      "metadata": {
        "id": "zPBf8mbLl6sa"
      },
      "source": [
        "X_=pd.DataFrame(list(X['all_features']),columns=[i for i in range(100)])\n",
        "X_['supplier_name']=data['supplier_name']\n",
        "X_['supplier_id']=le.fit_transform(data['supplier_id'])"
      ],
      "execution_count": 288,
      "outputs": []
    },
    {
      "cell_type": "code",
      "metadata": {
        "id": "oIi1-BrKmwdz",
        "outputId": "5dd5eed9-9cbb-4834-a811-b2bf7c324883",
        "colab": {
          "base_uri": "https://localhost:8080/",
          "height": 350
        }
      },
      "source": [
        "sns.distplot(X_[1])"
      ],
      "execution_count": 340,
      "outputs": [
        {
          "output_type": "stream",
          "text": [
            "/usr/local/lib/python3.6/dist-packages/seaborn/distributions.py:2551: FutureWarning: `distplot` is a deprecated function and will be removed in a future version. Please adapt your code to use either `displot` (a figure-level function with similar flexibility) or `histplot` (an axes-level function for histograms).\n",
            "  warnings.warn(msg, FutureWarning)\n"
          ],
          "name": "stderr"
        },
        {
          "output_type": "execute_result",
          "data": {
            "text/plain": [
              "<matplotlib.axes._subplots.AxesSubplot at 0x7f9c25677ac8>"
            ]
          },
          "metadata": {
            "tags": []
          },
          "execution_count": 340
        },
        {
          "output_type": "display_data",
          "data": {
            "image/png": "[encoded data removed]",
            "text/plain": [
              "<Figure size 432x288 with 1 Axes>"
            ]
          },
          "metadata": {
            "tags": [],
            "needs_background": "light"
          }
        }
      ]
    },
    {
      "cell_type": "markdown",
      "metadata": {
        "id": "m4GEhZdZH2UJ"
      },
      "source": [
        "Finally Label Encode each of the sub categories "
      ]
    },
    {
      "cell_type": "code",
      "metadata": {
        "id": "0iCrRemLPBmr",
        "outputId": "ec94f51d-bf44-400e-ea38-b27ce0029c5a",
        "colab": {
          "base_uri": "https://localhost:8080/",
          "height": 244
        }
      },
      "source": [
        "X_.head()"
      ],
      "execution_count": 289,
      "outputs": [
        {
          "output_type": "execute_result",
          "data": {
            "text/html": [
              "<div>\n",
              "<style scoped>\n",
              "    .dataframe tbody tr th:only-of-type {\n",
              "        vertical-align: middle;\n",
              "    }\n",
              "\n",
              "    .dataframe tbody tr th {\n",
              "        vertical-align: top;\n",
              "    }\n",
              "\n",
              "    .dataframe thead th {\n",
              "        text-align: right;\n",
              "    }\n",
              "</style>\n",
              "<table border=\"1\" class=\"dataframe\">\n",
              "  <thead>\n",
              "    <tr style=\"text-align: right;\">\n",
              "      <th></th>\n",
              "      <th>0</th>\n",
              "      <th>1</th>\n",
              "      <th>2</th>\n",
              "      <th>3</th>\n",
              "      <th>4</th>\n",
              "      <th>5</th>\n",
              "      <th>6</th>\n",
              "      <th>7</th>\n",
              "      <th>8</th>\n",
              "      <th>9</th>\n",
              "      <th>10</th>\n",
              "      <th>11</th>\n",
              "      <th>12</th>\n",
              "      <th>13</th>\n",
              "      <th>14</th>\n",
              "      <th>15</th>\n",
              "      <th>16</th>\n",
              "      <th>17</th>\n",
              "      <th>18</th>\n",
              "      <th>19</th>\n",
              "      <th>20</th>\n",
              "      <th>21</th>\n",
              "      <th>22</th>\n",
              "      <th>23</th>\n",
              "      <th>24</th>\n",
              "      <th>25</th>\n",
              "      <th>26</th>\n",
              "      <th>27</th>\n",
              "      <th>28</th>\n",
              "      <th>29</th>\n",
              "      <th>30</th>\n",
              "      <th>31</th>\n",
              "      <th>32</th>\n",
              "      <th>33</th>\n",
              "      <th>34</th>\n",
              "      <th>35</th>\n",
              "      <th>36</th>\n",
              "      <th>37</th>\n",
              "      <th>38</th>\n",
              "      <th>39</th>\n",
              "      <th>...</th>\n",
              "      <th>62</th>\n",
              "      <th>63</th>\n",
              "      <th>64</th>\n",
              "      <th>65</th>\n",
              "      <th>66</th>\n",
              "      <th>67</th>\n",
              "      <th>68</th>\n",
              "      <th>69</th>\n",
              "      <th>70</th>\n",
              "      <th>71</th>\n",
              "      <th>72</th>\n",
              "      <th>73</th>\n",
              "      <th>74</th>\n",
              "      <th>75</th>\n",
              "      <th>76</th>\n",
              "      <th>77</th>\n",
              "      <th>78</th>\n",
              "      <th>79</th>\n",
              "      <th>80</th>\n",
              "      <th>81</th>\n",
              "      <th>82</th>\n",
              "      <th>83</th>\n",
              "      <th>84</th>\n",
              "      <th>85</th>\n",
              "      <th>86</th>\n",
              "      <th>87</th>\n",
              "      <th>88</th>\n",
              "      <th>89</th>\n",
              "      <th>90</th>\n",
              "      <th>91</th>\n",
              "      <th>92</th>\n",
              "      <th>93</th>\n",
              "      <th>94</th>\n",
              "      <th>95</th>\n",
              "      <th>96</th>\n",
              "      <th>97</th>\n",
              "      <th>98</th>\n",
              "      <th>99</th>\n",
              "      <th>supplier_name</th>\n",
              "      <th>supplier_id</th>\n",
              "    </tr>\n",
              "  </thead>\n",
              "  <tbody>\n",
              "    <tr>\n",
              "      <th>0</th>\n",
              "      <td>0.072878</td>\n",
              "      <td>-0.052082</td>\n",
              "      <td>-0.051756</td>\n",
              "      <td>-0.097750</td>\n",
              "      <td>0.286128</td>\n",
              "      <td>0.082810</td>\n",
              "      <td>-0.029057</td>\n",
              "      <td>-0.077223</td>\n",
              "      <td>-0.006241</td>\n",
              "      <td>0.081379</td>\n",
              "      <td>-0.163306</td>\n",
              "      <td>-0.035414</td>\n",
              "      <td>0.029537</td>\n",
              "      <td>0.063750</td>\n",
              "      <td>0.041638</td>\n",
              "      <td>-0.079538</td>\n",
              "      <td>0.023779</td>\n",
              "      <td>0.042539</td>\n",
              "      <td>0.036659</td>\n",
              "      <td>-0.027259</td>\n",
              "      <td>-0.077333</td>\n",
              "      <td>0.083489</td>\n",
              "      <td>0.206387</td>\n",
              "      <td>-0.178902</td>\n",
              "      <td>0.095537</td>\n",
              "      <td>0.008162</td>\n",
              "      <td>0.196301</td>\n",
              "      <td>0.179349</td>\n",
              "      <td>-0.019199</td>\n",
              "      <td>0.352934</td>\n",
              "      <td>0.274210</td>\n",
              "      <td>0.147900</td>\n",
              "      <td>0.099847</td>\n",
              "      <td>-0.229276</td>\n",
              "      <td>-0.060965</td>\n",
              "      <td>0.262937</td>\n",
              "      <td>0.171591</td>\n",
              "      <td>-0.203872</td>\n",
              "      <td>0.216608</td>\n",
              "      <td>-0.108957</td>\n",
              "      <td>...</td>\n",
              "      <td>0.076048</td>\n",
              "      <td>0.049274</td>\n",
              "      <td>0.167440</td>\n",
              "      <td>0.074850</td>\n",
              "      <td>0.177821</td>\n",
              "      <td>0.122467</td>\n",
              "      <td>-0.083317</td>\n",
              "      <td>-0.015384</td>\n",
              "      <td>0.408187</td>\n",
              "      <td>-0.302629</td>\n",
              "      <td>0.126111</td>\n",
              "      <td>-0.103889</td>\n",
              "      <td>-0.136469</td>\n",
              "      <td>0.086511</td>\n",
              "      <td>0.236595</td>\n",
              "      <td>0.031817</td>\n",
              "      <td>0.011116</td>\n",
              "      <td>-0.060124</td>\n",
              "      <td>0.010733</td>\n",
              "      <td>-0.004670</td>\n",
              "      <td>-0.050131</td>\n",
              "      <td>0.026376</td>\n",
              "      <td>-0.008946</td>\n",
              "      <td>0.086060</td>\n",
              "      <td>-0.003050</td>\n",
              "      <td>-0.004584</td>\n",
              "      <td>-0.015357</td>\n",
              "      <td>-0.000255</td>\n",
              "      <td>0.010077</td>\n",
              "      <td>0.016804</td>\n",
              "      <td>-0.011542</td>\n",
              "      <td>-0.000578</td>\n",
              "      <td>0.001076</td>\n",
              "      <td>-0.035285</td>\n",
              "      <td>0.041626</td>\n",
              "      <td>0.002366</td>\n",
              "      <td>-0.012059</td>\n",
              "      <td>-0.012309</td>\n",
              "      <td>149</td>\n",
              "      <td>30</td>\n",
              "    </tr>\n",
              "    <tr>\n",
              "      <th>1</th>\n",
              "      <td>0.265168</td>\n",
              "      <td>-0.322212</td>\n",
              "      <td>-0.211836</td>\n",
              "      <td>-0.021066</td>\n",
              "      <td>0.367021</td>\n",
              "      <td>0.311722</td>\n",
              "      <td>-0.020458</td>\n",
              "      <td>-0.200449</td>\n",
              "      <td>-0.478526</td>\n",
              "      <td>0.131897</td>\n",
              "      <td>0.249328</td>\n",
              "      <td>0.051745</td>\n",
              "      <td>-0.167127</td>\n",
              "      <td>0.232878</td>\n",
              "      <td>0.066272</td>\n",
              "      <td>0.263065</td>\n",
              "      <td>0.257665</td>\n",
              "      <td>-0.117953</td>\n",
              "      <td>0.112387</td>\n",
              "      <td>-0.068805</td>\n",
              "      <td>-0.110899</td>\n",
              "      <td>0.001587</td>\n",
              "      <td>0.029508</td>\n",
              "      <td>-0.186098</td>\n",
              "      <td>-0.024972</td>\n",
              "      <td>-0.031370</td>\n",
              "      <td>-0.085034</td>\n",
              "      <td>0.028444</td>\n",
              "      <td>-0.001659</td>\n",
              "      <td>-0.009467</td>\n",
              "      <td>0.173206</td>\n",
              "      <td>-0.022068</td>\n",
              "      <td>-0.190762</td>\n",
              "      <td>0.124903</td>\n",
              "      <td>-0.125766</td>\n",
              "      <td>0.246190</td>\n",
              "      <td>0.339499</td>\n",
              "      <td>-0.197761</td>\n",
              "      <td>-0.028406</td>\n",
              "      <td>0.042339</td>\n",
              "      <td>...</td>\n",
              "      <td>0.005138</td>\n",
              "      <td>0.002244</td>\n",
              "      <td>-0.003817</td>\n",
              "      <td>0.007295</td>\n",
              "      <td>-0.003121</td>\n",
              "      <td>0.019589</td>\n",
              "      <td>0.023183</td>\n",
              "      <td>-0.005828</td>\n",
              "      <td>0.014586</td>\n",
              "      <td>0.001445</td>\n",
              "      <td>0.003402</td>\n",
              "      <td>0.021280</td>\n",
              "      <td>-0.021448</td>\n",
              "      <td>-0.020644</td>\n",
              "      <td>-0.023989</td>\n",
              "      <td>0.016631</td>\n",
              "      <td>0.013908</td>\n",
              "      <td>0.018501</td>\n",
              "      <td>0.027243</td>\n",
              "      <td>0.104084</td>\n",
              "      <td>0.058371</td>\n",
              "      <td>-0.012737</td>\n",
              "      <td>0.061608</td>\n",
              "      <td>-0.115065</td>\n",
              "      <td>0.041933</td>\n",
              "      <td>0.087596</td>\n",
              "      <td>0.031319</td>\n",
              "      <td>0.080817</td>\n",
              "      <td>0.008197</td>\n",
              "      <td>-0.019207</td>\n",
              "      <td>0.095630</td>\n",
              "      <td>-0.006551</td>\n",
              "      <td>0.134298</td>\n",
              "      <td>0.105498</td>\n",
              "      <td>-0.028298</td>\n",
              "      <td>-0.027152</td>\n",
              "      <td>-0.062458</td>\n",
              "      <td>-0.014073</td>\n",
              "      <td>88</td>\n",
              "      <td>129</td>\n",
              "    </tr>\n",
              "    <tr>\n",
              "      <th>2</th>\n",
              "      <td>0.212873</td>\n",
              "      <td>-0.186214</td>\n",
              "      <td>-0.260628</td>\n",
              "      <td>-0.135219</td>\n",
              "      <td>0.233603</td>\n",
              "      <td>0.369794</td>\n",
              "      <td>0.175724</td>\n",
              "      <td>-0.144844</td>\n",
              "      <td>-0.349736</td>\n",
              "      <td>0.233033</td>\n",
              "      <td>0.151318</td>\n",
              "      <td>0.358347</td>\n",
              "      <td>-0.163591</td>\n",
              "      <td>0.208195</td>\n",
              "      <td>0.036416</td>\n",
              "      <td>-0.013559</td>\n",
              "      <td>-0.072698</td>\n",
              "      <td>-0.237191</td>\n",
              "      <td>0.011155</td>\n",
              "      <td>-0.314837</td>\n",
              "      <td>-0.143982</td>\n",
              "      <td>-0.123889</td>\n",
              "      <td>0.280497</td>\n",
              "      <td>-0.075646</td>\n",
              "      <td>0.265248</td>\n",
              "      <td>-0.251149</td>\n",
              "      <td>0.031513</td>\n",
              "      <td>-0.148816</td>\n",
              "      <td>-0.123889</td>\n",
              "      <td>-0.406723</td>\n",
              "      <td>0.304222</td>\n",
              "      <td>-0.057928</td>\n",
              "      <td>0.050042</td>\n",
              "      <td>-0.167540</td>\n",
              "      <td>-0.401235</td>\n",
              "      <td>0.017077</td>\n",
              "      <td>0.279147</td>\n",
              "      <td>-0.260205</td>\n",
              "      <td>-0.116520</td>\n",
              "      <td>0.008045</td>\n",
              "      <td>...</td>\n",
              "      <td>0.039802</td>\n",
              "      <td>-0.208597</td>\n",
              "      <td>0.167791</td>\n",
              "      <td>0.126859</td>\n",
              "      <td>0.302344</td>\n",
              "      <td>0.451598</td>\n",
              "      <td>-0.463357</td>\n",
              "      <td>0.105344</td>\n",
              "      <td>1.057811</td>\n",
              "      <td>-0.899166</td>\n",
              "      <td>0.341842</td>\n",
              "      <td>-0.077316</td>\n",
              "      <td>-0.551878</td>\n",
              "      <td>0.114892</td>\n",
              "      <td>0.113531</td>\n",
              "      <td>0.517025</td>\n",
              "      <td>-0.015642</td>\n",
              "      <td>-0.017487</td>\n",
              "      <td>0.062342</td>\n",
              "      <td>0.144559</td>\n",
              "      <td>0.079507</td>\n",
              "      <td>0.062341</td>\n",
              "      <td>0.116162</td>\n",
              "      <td>-0.130307</td>\n",
              "      <td>0.027626</td>\n",
              "      <td>0.105554</td>\n",
              "      <td>-0.061141</td>\n",
              "      <td>0.089645</td>\n",
              "      <td>-0.002860</td>\n",
              "      <td>-0.000225</td>\n",
              "      <td>0.058922</td>\n",
              "      <td>-0.006130</td>\n",
              "      <td>0.178196</td>\n",
              "      <td>-0.010776</td>\n",
              "      <td>0.000960</td>\n",
              "      <td>-0.147337</td>\n",
              "      <td>-0.058872</td>\n",
              "      <td>-0.116021</td>\n",
              "      <td>15</td>\n",
              "      <td>138</td>\n",
              "    </tr>\n",
              "    <tr>\n",
              "      <th>3</th>\n",
              "      <td>0.092821</td>\n",
              "      <td>0.039031</td>\n",
              "      <td>0.029245</td>\n",
              "      <td>0.021835</td>\n",
              "      <td>0.091515</td>\n",
              "      <td>-0.111870</td>\n",
              "      <td>0.037881</td>\n",
              "      <td>0.216360</td>\n",
              "      <td>-0.116988</td>\n",
              "      <td>-0.048318</td>\n",
              "      <td>-0.077899</td>\n",
              "      <td>-0.011028</td>\n",
              "      <td>-0.038614</td>\n",
              "      <td>0.047344</td>\n",
              "      <td>-0.213318</td>\n",
              "      <td>0.177913</td>\n",
              "      <td>0.087386</td>\n",
              "      <td>-0.007606</td>\n",
              "      <td>-0.041923</td>\n",
              "      <td>-0.252749</td>\n",
              "      <td>-0.107809</td>\n",
              "      <td>0.269286</td>\n",
              "      <td>0.091258</td>\n",
              "      <td>0.005812</td>\n",
              "      <td>0.097407</td>\n",
              "      <td>0.038618</td>\n",
              "      <td>-0.060686</td>\n",
              "      <td>0.250509</td>\n",
              "      <td>-0.242191</td>\n",
              "      <td>-0.087537</td>\n",
              "      <td>-0.065138</td>\n",
              "      <td>-0.091235</td>\n",
              "      <td>-0.140831</td>\n",
              "      <td>-0.054208</td>\n",
              "      <td>-0.246053</td>\n",
              "      <td>0.318047</td>\n",
              "      <td>0.141278</td>\n",
              "      <td>-0.066662</td>\n",
              "      <td>-0.080681</td>\n",
              "      <td>-0.279193</td>\n",
              "      <td>...</td>\n",
              "      <td>-0.265399</td>\n",
              "      <td>-0.462603</td>\n",
              "      <td>0.191484</td>\n",
              "      <td>-0.166169</td>\n",
              "      <td>0.444076</td>\n",
              "      <td>0.310977</td>\n",
              "      <td>-0.086395</td>\n",
              "      <td>0.361037</td>\n",
              "      <td>0.810358</td>\n",
              "      <td>-0.239002</td>\n",
              "      <td>0.581127</td>\n",
              "      <td>-0.267537</td>\n",
              "      <td>-0.269263</td>\n",
              "      <td>0.140751</td>\n",
              "      <td>-0.093506</td>\n",
              "      <td>-0.178973</td>\n",
              "      <td>-0.379500</td>\n",
              "      <td>-0.127409</td>\n",
              "      <td>0.018592</td>\n",
              "      <td>-0.012231</td>\n",
              "      <td>-0.110649</td>\n",
              "      <td>0.006636</td>\n",
              "      <td>-0.032338</td>\n",
              "      <td>0.146539</td>\n",
              "      <td>-0.042890</td>\n",
              "      <td>0.017258</td>\n",
              "      <td>-0.048137</td>\n",
              "      <td>-0.012774</td>\n",
              "      <td>0.019834</td>\n",
              "      <td>0.008514</td>\n",
              "      <td>-0.044092</td>\n",
              "      <td>0.006805</td>\n",
              "      <td>-0.029272</td>\n",
              "      <td>-0.061291</td>\n",
              "      <td>0.102127</td>\n",
              "      <td>-0.017925</td>\n",
              "      <td>-0.013290</td>\n",
              "      <td>0.039280</td>\n",
              "      <td>86</td>\n",
              "      <td>38</td>\n",
              "    </tr>\n",
              "    <tr>\n",
              "      <th>4</th>\n",
              "      <td>0.052131</td>\n",
              "      <td>-0.017056</td>\n",
              "      <td>0.009880</td>\n",
              "      <td>-0.054462</td>\n",
              "      <td>0.020741</td>\n",
              "      <td>-0.069678</td>\n",
              "      <td>0.010885</td>\n",
              "      <td>0.044112</td>\n",
              "      <td>-0.005272</td>\n",
              "      <td>-0.022383</td>\n",
              "      <td>0.025398</td>\n",
              "      <td>0.103287</td>\n",
              "      <td>0.019591</td>\n",
              "      <td>0.009187</td>\n",
              "      <td>-0.047217</td>\n",
              "      <td>0.039109</td>\n",
              "      <td>0.073606</td>\n",
              "      <td>-0.012412</td>\n",
              "      <td>0.064411</td>\n",
              "      <td>-0.043681</td>\n",
              "      <td>-0.399159</td>\n",
              "      <td>-0.229562</td>\n",
              "      <td>-0.074363</td>\n",
              "      <td>0.127075</td>\n",
              "      <td>0.166350</td>\n",
              "      <td>-0.151894</td>\n",
              "      <td>0.158314</td>\n",
              "      <td>0.432090</td>\n",
              "      <td>-0.086021</td>\n",
              "      <td>-0.011977</td>\n",
              "      <td>0.233250</td>\n",
              "      <td>-0.357950</td>\n",
              "      <td>-0.472777</td>\n",
              "      <td>-0.006674</td>\n",
              "      <td>0.037002</td>\n",
              "      <td>-0.028714</td>\n",
              "      <td>0.022610</td>\n",
              "      <td>-0.131608</td>\n",
              "      <td>-0.313285</td>\n",
              "      <td>0.131207</td>\n",
              "      <td>...</td>\n",
              "      <td>-0.218044</td>\n",
              "      <td>0.103340</td>\n",
              "      <td>-0.134080</td>\n",
              "      <td>0.246568</td>\n",
              "      <td>0.184984</td>\n",
              "      <td>0.055322</td>\n",
              "      <td>-0.835610</td>\n",
              "      <td>-0.360940</td>\n",
              "      <td>0.740141</td>\n",
              "      <td>-0.249497</td>\n",
              "      <td>0.512799</td>\n",
              "      <td>0.198544</td>\n",
              "      <td>0.294034</td>\n",
              "      <td>0.219674</td>\n",
              "      <td>0.121769</td>\n",
              "      <td>0.581432</td>\n",
              "      <td>-0.316997</td>\n",
              "      <td>0.076542</td>\n",
              "      <td>0.074049</td>\n",
              "      <td>0.226854</td>\n",
              "      <td>0.116851</td>\n",
              "      <td>0.030777</td>\n",
              "      <td>0.152172</td>\n",
              "      <td>-0.246379</td>\n",
              "      <td>0.054444</td>\n",
              "      <td>0.183806</td>\n",
              "      <td>-0.029687</td>\n",
              "      <td>0.153966</td>\n",
              "      <td>0.015468</td>\n",
              "      <td>-0.048702</td>\n",
              "      <td>0.155180</td>\n",
              "      <td>-0.011895</td>\n",
              "      <td>0.310228</td>\n",
              "      <td>0.124344</td>\n",
              "      <td>-0.055036</td>\n",
              "      <td>-0.134355</td>\n",
              "      <td>-0.098010</td>\n",
              "      <td>-0.079760</td>\n",
              "      <td>99</td>\n",
              "      <td>1</td>\n",
              "    </tr>\n",
              "  </tbody>\n",
              "</table>\n",
              "<p>5 rows × 102 columns</p>\n",
              "</div>"
            ],
            "text/plain": [
              "          0         1         2  ...        99  supplier_name  supplier_id\n",
              "0  0.072878 -0.052082 -0.051756  ... -0.012309            149           30\n",
              "1  0.265168 -0.322212 -0.211836  ... -0.014073             88          129\n",
              "2  0.212873 -0.186214 -0.260628  ... -0.116021             15          138\n",
              "3  0.092821  0.039031  0.029245  ...  0.039280             86           38\n",
              "4  0.052131 -0.017056  0.009880  ... -0.079760             99            1\n",
              "\n",
              "[5 rows x 102 columns]"
            ]
          },
          "metadata": {
            "tags": []
          },
          "execution_count": 289
        }
      ]
    },
    {
      "cell_type": "markdown",
      "metadata": {
        "id": "GZzpYlbmIEKr"
      },
      "source": [
        "**Model is tested using models:** <br />\n",
        "As the Target Variables are imbalanced a cost sensitive balanced Decision Tree is used. \n",
        "\n",
        "a) **Decision Tree** <br />\n",
        "\n",
        "Sampling of data is done while training Light Gradient Boost <br />\n",
        "b) **LGBM with Nested Cross Validation to select the best parameters**"
      ]
    },
    {
      "cell_type": "code",
      "metadata": {
        "id": "3t9igrTrmYRH"
      },
      "source": [
        "from sklearn.model_selection import train_test_split\n",
        "from sklearn.metrics import classification_report\n",
        "from sklearn.linear_model import LinearRegression\n",
        "from sklearn.metrics import accuracy_score\n",
        "from sklearn.metrics import confusion_matrix\n",
        "from scipy import stats\n",
        "import pylab as pl\n",
        "X_train, X_test, y_train, y_test = train_test_split(X_,data['sub_category'] , test_size = 0.3, random_state = 0)\n",
        "X_train_enc, X_test_enc, y_train_enc, y_test_enc = train_test_split(X_enc,y_enc , test_size = 0.3, random_state = 0)"
      ],
      "execution_count": 297,
      "outputs": []
    },
    {
      "cell_type": "code",
      "metadata": {
        "id": "GdkMv5Iemn48"
      },
      "source": [
        "from sklearn.tree import DecisionTreeClassifier\n",
        "\n",
        "\n",
        "def DecisionTreeModel(X_train,y_train,X_test,y_test):\n",
        "      ''' \n",
        "      parameters deafult used \n",
        "      for the predictions\n",
        "      '''\n",
        "  Model = DecisionTreeClassifier(class_weight='balanced')\n",
        "\n",
        "  Model.fit(X_train, y_train)\n",
        "\n",
        "  y_pred1 = Model.predict(X_test)\n",
        "\n",
        "  importance = Model.feature_importances_\n",
        "  plt.figure(figsize=(15,5))\n",
        "  sns.barplot([x for x in range(len(importance))], importance)\n",
        "\n",
        "\n",
        "  print(classification_report(y_test, y_pred1))\n",
        "  #print(confusion_matrix(y_test, y_pred1))\n",
        "  # Accuracy score\n",
        "  print('accuracy is',accuracy_score(y_pred1,y_test))"
      ],
      "execution_count": 309,
      "outputs": []
    },
    {
      "cell_type": "markdown",
      "metadata": {
        "id": "OqDLyl_DJ2Xr"
      },
      "source": [
        "Decision Tree Model Interpretation showing that the Category Features is more important and features like  supplier_id,supplier_name, minor_desc, features also playing a role in predicting the Sub Categories \n",
        "\n",
        "---\n",
        "\n"
      ]
    },
    {
      "cell_type": "code",
      "metadata": {
        "id": "RGRwNc3sShAB",
        "outputId": "2c79a69a-0a8c-436b-e02c-1b8ddbe746d9",
        "colab": {
          "base_uri": "https://localhost:8080/",
          "height": 1000
        }
      },
      "source": [
        "print(\"============Text Embedding Word2Vec RESULTS====================\")\n",
        "DecisionTreeModel(X_train,y_train,X_test,y_test)\n",
        "print(\"============LABEL ENCODING RESULTS====================\")\n",
        "DecisionTreeModel(X_train_enc,y_train_enc,X_test_enc,y_test_enc)\n",
        "\n",
        "print(\"============LABEL ENCODING RESULTS with uom====================\")\n",
        "DecisionTreeModel(X_train_enc,y_train_enc,X_test_enc,y_test_enc)"
      ],
      "execution_count": 310,
      "outputs": [
        {
          "output_type": "stream",
          "text": [
            "============Text Embedding Word2Vec RESULTS====================\n"
          ],
          "name": "stdout"
        },
        {
          "output_type": "stream",
          "text": [
            "/usr/local/lib/python3.6/dist-packages/seaborn/_decorators.py:43: FutureWarning: Pass the following variables as keyword args: x, y. From version 0.12, the only valid positional argument will be `data`, and passing other arguments without an explicit keyword will result in an error or misinterpretation.\n",
            "  FutureWarning\n"
          ],
          "name": "stderr"
        },
        {
          "output_type": "stream",
          "text": [
            "              precision    recall  f1-score   support\n",
            "\n",
            "           0       0.88      0.87      0.88      1048\n",
            "           1       0.48      0.46      0.47      1793\n",
            "           2       0.65      0.64      0.64      2758\n",
            "           3       0.84      0.86      0.85      6264\n",
            "\n",
            "    accuracy                           0.75     11863\n",
            "   macro avg       0.71      0.71      0.71     11863\n",
            "weighted avg       0.74      0.75      0.75     11863\n",
            "\n",
            "accuracy is 0.7470285762454691\n",
            "============LABEL ENCODING RESULTS====================\n",
            "              precision    recall  f1-score   support\n",
            "\n",
            "           0       0.98      0.99      0.99      1048\n",
            "           1       0.76      0.73      0.75      1793\n",
            "           2       0.83      0.83      0.83      2758\n",
            "           3       0.93      0.94      0.94      6264\n",
            "\n",
            "    accuracy                           0.89     11863\n",
            "   macro avg       0.88      0.87      0.88     11863\n",
            "weighted avg       0.89      0.89      0.89     11863\n",
            "\n",
            "accuracy is 0.8885610722414229\n"
          ],
          "name": "stdout"
        },
        {
          "output_type": "stream",
          "text": [
            "/usr/local/lib/python3.6/dist-packages/seaborn/_decorators.py:43: FutureWarning: Pass the following variables as keyword args: x, y. From version 0.12, the only valid positional argument will be `data`, and passing other arguments without an explicit keyword will result in an error or misinterpretation.\n",
            "  FutureWarning\n"
          ],
          "name": "stderr"
        },
        {
          "output_type": "display_data",
          "data": {
            "image/png": "[encoded data removed]",
            "text/plain": [
              "<Figure size 1080x360 with 1 Axes>"
            ]
          },
          "metadata": {
            "tags": [],
            "needs_background": "light"
          }
        },
        {
          "output_type": "display_data",
          "data": {
            "image/png": "[encoded data removed]",
            "text/plain": [
              "<Figure size 1080x360 with 1 Axes>"
            ]
          },
          "metadata": {
            "tags": [],
            "needs_background": "light"
          }
        }
      ]
    },
    {
      "cell_type": "code",
      "metadata": {
        "id": "FfWN216DmwnK",
        "outputId": "9c14b949-804b-4668-e816-f7aca4e96e10",
        "colab": {
          "base_uri": "https://localhost:8080/",
          "height": 286
        }
      },
      "source": [
        "# Naive Bayes\n",
        "from sklearn.naive_bayes import GaussianNB\n",
        "Model = GaussianNB()\n",
        "Model.fit(X_train, y_train)\n",
        "\n",
        "y_pred1 = Model.predict(X_test)\n",
        "\n",
        "# Summary of the predictions made by the classifier\n",
        "print(classification_report(y_test, y_pred1))\n",
        "print(confusion_matrix(y_test, y_pred1))\n",
        "# Accuracy score\n",
        "print('accuracy is',accuracy_score(y_pred1,y_test))"
      ],
      "execution_count": 293,
      "outputs": [
        {
          "output_type": "stream",
          "text": [
            "              precision    recall  f1-score   support\n",
            "\n",
            "           0       0.55      0.94      0.70      1048\n",
            "           1       0.26      0.10      0.14      1793\n",
            "           2       0.52      0.92      0.66      2758\n",
            "           3       0.94      0.68      0.79      6264\n",
            "\n",
            "    accuracy                           0.67     11863\n",
            "   macro avg       0.57      0.66      0.57     11863\n",
            "weighted avg       0.71      0.67      0.65     11863\n",
            "\n",
            "[[ 989   17    0   42]\n",
            " [ 231  181 1211  170]\n",
            " [   0  178 2533   47]\n",
            " [ 566  329 1119 4250]]\n",
            "accuracy is 0.6704037764477788\n"
          ],
          "name": "stdout"
        }
      ]
    },
    {
      "cell_type": "code",
      "metadata": {
        "id": "5V-PrQrdmzH7"
      },
      "source": [
        "import lightgbm as lgb #LGB\n",
        "import xgboost as xgb\n",
        "from sklearn.model_selection import RandomizedSearchCV"
      ],
      "execution_count": 311,
      "outputs": []
    },
    {
      "cell_type": "code",
      "metadata": {
        "id": "PcLl1NPWoxCo"
      },
      "source": [
        "models_to_run = [lgb.LGBMClassifier()]"
      ],
      "execution_count": 312,
      "outputs": []
    },
    {
      "cell_type": "code",
      "metadata": {
        "id": "MfHG7z4rozJP"
      },
      "source": [
        "params=[{'learning_rate': [0.15],\n",
        "         'n_estimators': [30],\n",
        "         'reg_alpha' : [0.5],\n",
        "         'reg_lambda' : [1],\n",
        "         'subsample': [0.8],\n",
        "        'alpha':[0.5]\n",
        "         }]"
      ],
      "execution_count": 318,
      "outputs": []
    },
    {
      "cell_type": "code",
      "metadata": {
        "id": "CqZzxgNSo2fF"
      },
      "source": [
        "!pip install nested_cv\n",
        "from sklearn.model_selection import GridSearchCV, KFold\n",
        "from nested_cv import NestedCV"
      ],
      "execution_count": 314,
      "outputs": []
    },
    {
      "cell_type": "code",
      "metadata": {
        "id": "gy4j-OJ6o468"
      },
      "source": [
        "def LGBModel(X_train,y_train):\n",
        "  NUM_TRIALS=1\n",
        "  LGB_scores = []\n",
        "  \n",
        "\n",
        "  for trial in range(NUM_TRIALS):\n",
        "      print('TRIAL NUMBER: ', trial+1)\n",
        "      for i,model in enumerate(models_to_run):\n",
        "          nested_CV_search = NestedCV(model=model, params_grid=params[i], outer_kfolds=5, \n",
        "                                    inner_kfolds=5, cv_options={'sqrt_of_score':True,'randomized_search_iter':30})\n",
        "          nested_CV_search.fit(X=X_train,y=y_train)\n",
        "          model_param_grid = nested_CV_search.best_params\n",
        "          print('\\nCumulated best parameter grids was:\\n{0}'.format(model_param_grid))\n",
        "\n",
        "          gscv = GridSearchCV(estimator=model, param_grid=model_param_grid, scoring='neg_mean_squared_error', cv=5)\n",
        "          gscv.fit(X_train,y_train)\n",
        "\n",
        "          print('\\nFitting with optimal parameters:\\n{0}'.format(gscv.best_params_))\n",
        "          return(gscv)"
      ],
      "execution_count": 325,
      "outputs": []
    },
    {
      "cell_type": "code",
      "metadata": {
        "id": "c60oxTy8VDhM",
        "outputId": "b9c3afcd-01cd-483e-9207-0171729efe3b",
        "colab": {
          "base_uri": "https://localhost:8080/",
          "height": 709
        }
      },
      "source": [
        "print(\"========LGB on Embedding Text Features==========\")\n",
        "gscv1=LGBModel(X_train,y_train)\n",
        "y_pred=gscv1.predict(X_test)\n",
        "print('accuracy is',accuracy_score(y_test,y_pred))\n",
        "print(classification_report(y_test, y_pred))\n",
        "print(\"========LGB on Label Encoded Features==========\")\n",
        "gscv2=LGBModel(X_train_enc,y_train_enc)\n",
        "y_pred_enc=gscv2.predict(X_test_enc)\n",
        "print('accuracy is',accuracy_score(y_test_enc,y_pred_enc))\n",
        "print(classification_report(y_test, y_pred_enc))"
      ],
      "execution_count": 327,
      "outputs": [
        {
          "output_type": "stream",
          "text": [
            "========LGB on Embedding Text Features==========\n",
            "TRIAL NUMBER:  1\n",
            "\n",
            "Cumulated best parameter grids was:\n",
            "{'alpha': [0.5], 'learning_rate': [0.15], 'n_estimators': [30], 'reg_alpha': [0.5], 'reg_lambda': [1], 'subsample': [0.8]}\n",
            "\n",
            "Fitting with optimal parameters:\n",
            "{'alpha': 0.5, 'learning_rate': 0.15, 'n_estimators': 30, 'reg_alpha': 0.5, 'reg_lambda': 1, 'subsample': 0.8}\n",
            "accuracy is 0.8349490010958442\n",
            "              precision    recall  f1-score   support\n",
            "\n",
            "           0       0.92      0.95      0.93      1048\n",
            "           1       0.72      0.46      0.56      1793\n",
            "           2       0.70      0.89      0.79      2758\n",
            "           3       0.92      0.90      0.91      6264\n",
            "\n",
            "    accuracy                           0.83     11863\n",
            "   macro avg       0.81      0.80      0.80     11863\n",
            "weighted avg       0.84      0.83      0.83     11863\n",
            "\n",
            "========LGB on Label Encoded Features==========\n",
            "TRIAL NUMBER:  1\n",
            "\n",
            "Cumulated best parameter grids was:\n",
            "{'alpha': [0.5], 'learning_rate': [0.15], 'n_estimators': [30], 'reg_alpha': [0.5], 'reg_lambda': [1], 'subsample': [0.8]}\n",
            "\n",
            "Fitting with optimal parameters:\n",
            "{'alpha': 0.5, 'learning_rate': 0.15, 'n_estimators': 30, 'reg_alpha': 0.5, 'reg_lambda': 1, 'subsample': 0.8}\n",
            "accuracy is 0.8698474247660795\n",
            "              precision    recall  f1-score   support\n",
            "\n",
            "           0       0.99      0.98      0.98      1048\n",
            "           1       0.82      0.61      0.70      1793\n",
            "           2       0.70      0.93      0.80      2758\n",
            "           3       0.97      0.90      0.93      6264\n",
            "\n",
            "    accuracy                           0.87     11863\n",
            "   macro avg       0.87      0.86      0.85     11863\n",
            "weighted avg       0.88      0.87      0.87     11863\n",
            "\n"
          ],
          "name": "stdout"
        }
      ]
    },
    {
      "cell_type": "markdown",
      "metadata": {
        "id": "C-v657qLZcwC"
      },
      "source": [
        "## **Final Inferences and Saving the Model:**\n",
        "a) **Features like uom** is highly variant, contains lots of NULL values and disturbant to the model performance as the recall of the class of Equipment sub category is almost zero when feature is considered.<br />\n",
        "\n",
        "b) The **target class were varying** (imbalanced), so the cost sensitive Model with weight balancing is used to avoid overfitting a particular class. <br />  \n",
        "\n",
        "c) As the **supplier id, supplier name , supplier category** is important and correct in human sense feature showing that the interpretability predictions are not biased to the particular sub category (target class). <br />\n",
        "\n",
        "d)  The parameters chosen for building the Models is selected using Nested Cross Validation on 5 kfold. **Model** with features of Encoding performs well or better than the embedded features getting an accuracy of 87% by LightGBM and 89% by the Decision trees.\n",
        "\n",
        " \n",
        "\n"
      ]
    },
    {
      "cell_type": "code",
      "metadata": {
        "id": "2SPktAw3ZVng"
      },
      "source": [
        "import pickle\n",
        "pkl_filename1 = \"LGB_model_emb.pkl\"\n",
        "pkl_filename2 = \"LGB_model_enc.pkl\"\n",
        "\n",
        "with open(pkl_filename1, 'wb') as file:\n",
        "    pickle.dump(gscv1, file)\n",
        "\n",
        "with open(pkl_filename2, 'wb') as file:\n",
        "    pickle.dump(gscv2, file)"
      ],
      "execution_count": 331,
      "outputs": []
    },
    {
      "cell_type": "code",
      "metadata": {
        "id": "_iulLZ1Wdes3"
      },
      "source": [
        "with open(pkl_filename1, 'rb') as file:\n",
        "    pickle_model = pickle.load(file)"
      ],
      "execution_count": 332,
      "outputs": []
    },
    {
      "cell_type": "code",
      "metadata": {
        "id": "6rRGdgjjdnPG",
        "outputId": "a57c452b-3173-49bb-850b-90914068bcde",
        "colab": {
          "base_uri": "https://localhost:8080/",
          "height": 34
        }
      },
      "source": [
        "pickle_model.predict(X_test)"
      ],
      "execution_count": 333,
      "outputs": [
        {
          "output_type": "execute_result",
          "data": {
            "text/plain": [
              "array([3, 3, 1, ..., 3, 2, 3])"
            ]
          },
          "metadata": {
            "tags": []
          },
          "execution_count": 333
        }
      ]
    },
    {
      "cell_type": "code",
      "metadata": {
        "id": "I_37r_6cmjKC",
        "outputId": "f55a3809-b48f-4268-d009-e3b995572585",
        "colab": {
          "base_uri": "https://localhost:8080/",
          "height": 101
        }
      },
      "source": [
        "pd.DataFrame(y).value_counts()"
      ],
      "execution_count": 342,
      "outputs": [
        {
          "output_type": "execute_result",
          "data": {
            "text/plain": [
              "3    21276\n",
              "2     8846\n",
              "1     5864\n",
              "0     3555\n",
              "dtype: int64"
            ]
          },
          "metadata": {
            "tags": []
          },
          "execution_count": 342
        }
      ]
    },
    {
      "cell_type": "code",
      "metadata": {
        "id": "xgTE22y7mf9P"
      },
      "source": [
        ""
      ],
      "execution_count": null,
      "outputs": []
    }
  ]
}
